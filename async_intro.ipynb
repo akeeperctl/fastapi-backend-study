{
 "cells": [
  {
   "cell_type": "code",
   "id": "initial_id",
   "metadata": {
    "collapsed": true,
    "ExecuteTime": {
     "end_time": "2025-06-14T09:05:34.097892Z",
     "start_time": "2025-06-14T09:05:34.095349Z"
    }
   },
   "source": [
    "import time\n",
    "import asyncio\n"
   ],
   "outputs": [],
   "execution_count": 2
  },
  {
   "metadata": {
    "ExecuteTime": {
     "end_time": "2025-06-14T09:07:20.748861Z",
     "start_time": "2025-06-14T09:07:20.745441Z"
    }
   },
   "cell_type": "code",
   "source": [
    "def get_data_from_db(query: str):\n",
    "    print(f\"Получен запрос {query}\")\n",
    "    if query == \"Сочи\":\n",
    "        time.sleep(2)\n",
    "    elif query == \"Дубай\":\n",
    "        time.sleep(4)\n",
    "    print(f\"Данные получены {query}\")"
   ],
   "id": "25fa136359d49e5b",
   "outputs": [],
   "execution_count": 9
  },
  {
   "metadata": {
    "ExecuteTime": {
     "end_time": "2025-06-14T09:07:29.029371Z",
     "start_time": "2025-06-14T09:07:23.019876Z"
    }
   },
   "cell_type": "code",
   "source": [
    "get_data_from_db(\"Сочи\")\n",
    "get_data_from_db(\"Дубай\")"
   ],
   "id": "40acb6edebb9e1b9",
   "outputs": [
    {
     "name": "stdout",
     "output_type": "stream",
     "text": [
      "Получен запрос Сочи\n",
      "Данные получены Сочи\n",
      "Получен запрос Дубай\n",
      "Данные получены Дубай\n"
     ]
    }
   ],
   "execution_count": 10
  },
  {
   "metadata": {
    "ExecuteTime": {
     "end_time": "2025-06-14T09:09:25.110032Z",
     "start_time": "2025-06-14T09:09:25.105375Z"
    }
   },
   "cell_type": "code",
   "source": [
    "async def get_data_from_db_async(query: str):\n",
    "    print(f\"Получен запрос {query}\")\n",
    "    if query == \"Сочи\":\n",
    "        await asyncio.sleep(2)\n",
    "    elif query == \"Дубай\":\n",
    "        await asyncio.sleep(4)\n",
    "    print(f\"Данные получены {query}\")"
   ],
   "id": "af43602de241dae0",
   "outputs": [],
   "execution_count": 13
  },
  {
   "metadata": {
    "ExecuteTime": {
     "end_time": "2025-06-14T09:09:31.986385Z",
     "start_time": "2025-06-14T09:09:25.967019Z"
    }
   },
   "cell_type": "code",
   "source": [
    "await get_data_from_db_async(\"Сочи\")\n",
    "await get_data_from_db_async(\"Дубай\")"
   ],
   "id": "9f561cd568e26d65",
   "outputs": [
    {
     "name": "stdout",
     "output_type": "stream",
     "text": [
      "Получен запрос Сочи\n",
      "Данные получены Сочи\n",
      "Получен запрос Дубай\n",
      "Данные получены Дубай\n"
     ]
    }
   ],
   "execution_count": 14
  },
  {
   "metadata": {
    "ExecuteTime": {
     "end_time": "2025-06-14T09:13:09.516458Z",
     "start_time": "2025-06-14T09:13:05.503670Z"
    }
   },
   "cell_type": "code",
   "source": [
    "# Позволяет асинхронно выполнять очень много запросов\n",
    "result_sochi, result_dubai = await asyncio.gather(\n",
    "    get_data_from_db_async(\"Сочи\"),\n",
    "    get_data_from_db_async(\"Дубай\")\n",
    ")\n",
    "print(result_sochi)\n",
    "print(result_dubai)"
   ],
   "id": "9d4cc2d96c0f272c",
   "outputs": [
    {
     "name": "stdout",
     "output_type": "stream",
     "text": [
      "Получен запрос Сочи\n",
      "Получен запрос Дубай\n",
      "Данные получены Сочи\n",
      "Данные получены Дубай\n",
      "None\n",
      "None\n"
     ]
    }
   ],
   "execution_count": 16
  },
  {
   "metadata": {
    "ExecuteTime": {
     "end_time": "2025-06-14T09:14:58.152312Z",
     "start_time": "2025-06-14T09:14:58.149310Z"
    }
   },
   "cell_type": "code",
   "source": [
    "task1 = asyncio.create_task(get_data_from_db_async(\"Сочи\"))\n",
    "task2 = asyncio.create_task(get_data_from_db_async(\"Дубай\"))"
   ],
   "id": "878d1c84fa501a07",
   "outputs": [
    {
     "name": "stdout",
     "output_type": "stream",
     "text": [
      "Получен запрос Сочи\n",
      "Получен запрос Дубай\n",
      "Данные получены Сочи\n",
      "Данные получены Дубай\n"
     ]
    }
   ],
   "execution_count": 21
  }
 ],
 "metadata": {
  "kernelspec": {
   "display_name": "Python 3",
   "language": "python",
   "name": "python3"
  },
  "language_info": {
   "codemirror_mode": {
    "name": "ipython",
    "version": 2
   },
   "file_extension": ".py",
   "mimetype": "text/x-python",
   "name": "python",
   "nbconvert_exporter": "python",
   "pygments_lexer": "ipython2",
   "version": "2.7.6"
  }
 },
 "nbformat": 4,
 "nbformat_minor": 5
}
